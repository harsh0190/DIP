{
 "cells": [
  {
   "cell_type": "code",
   "execution_count": 3,
   "metadata": {},
   "outputs": [
    {
     "name": "stdout",
     "output_type": "stream",
     "text": [
      "127.0\n"
     ]
    }
   ],
   "source": [
    "import cv2 as cv\n",
    "\n",
    "img = cv.imread('Num.jpg', 0)\n",
    "val, bin_img = cv.threshold(img,127,255,cv.THRESH_BINARY) #source, thres value, max value, thres type\n",
    "\n",
    "cv.imshow('Image', img)\n",
    "cv.imshow('Binary image', bin_img)\n",
    "cv.waitKey(0)\n",
    "cv.destroyAllWindows()\n",
    "print(val)\n"
   ]
  },
  {
   "cell_type": "code",
   "execution_count": 4,
   "metadata": {},
   "outputs": [
    {
     "name": "stdout",
     "output_type": "stream",
     "text": [
      "127.0\n"
     ]
    }
   ],
   "source": [
    "import cv2 as cv\n",
    "\n",
    "img = cv.imread('Num.jpg', 0)\n",
    "val, bin_img = cv.threshold(img,127,255,cv.THRESH_BINARY_INV)\n",
    "\n",
    "cv.imshow('Image', img)\n",
    "cv.imshow('Binary image', bin_img)\n",
    "cv.waitKey(0)\n",
    "cv.destroyAllWindows()\n",
    "print(val)"
   ]
  },
  {
   "cell_type": "code",
   "execution_count": null,
   "metadata": {},
   "outputs": [
    {
     "name": "stdout",
     "output_type": "stream",
     "text": [
      "185.0\n"
     ]
    }
   ],
   "source": [
    "import cv2 as cv\n",
    "\n",
    "img = cv.imread('Num.jpg', 0)\n",
    "thres, thres_img = cv.threshold(img,125,255,cv.THRESH_TRUNC)\n",
    "\n",
    "cv.imshow('Image', img)\n",
    "cv.imshow('Threshed image', thres_img)\n",
    "cv.waitKey(0)\n",
    "cv.destroyAllWindows()\n",
    "print(thres)"
   ]
  },
  {
   "cell_type": "code",
   "execution_count": 5,
   "metadata": {},
   "outputs": [
    {
     "name": "stdout",
     "output_type": "stream",
     "text": [
      "125.0\n"
     ]
    }
   ],
   "source": [
    "import cv2 as cv\n",
    "\n",
    "img = cv.imread('Num.jpg', 0)\n",
    "thres, thres_img = cv.threshold(img,125,255,cv.THRESH_TOZERO)\n",
    "\n",
    "cv.imshow('Image', img)\n",
    "cv.imshow('Threshed image', thres_img)\n",
    "cv.waitKey(0)\n",
    "cv.destroyAllWindows()\n",
    "print(thres)"
   ]
  },
  {
   "cell_type": "code",
   "execution_count": 4,
   "metadata": {},
   "outputs": [
    {
     "name": "stdout",
     "output_type": "stream",
     "text": [
      "125.0\n"
     ]
    }
   ],
   "source": [
    "import cv2 as cv\n",
    "\n",
    "img = cv.imread('Num.jpg', 0)\n",
    "thres, inv_thres_img = cv.threshold(img,125,255,cv.THRESH_TOZERO_INV)\n",
    "\n",
    "cv.imshow('Image', img)\n",
    "cv.imshow('Inverse threshed image', inv_thres_img)\n",
    "cv.waitKey(0)\n",
    "cv.destroyAllWindows()\n",
    "print(thres)"
   ]
  },
  {
   "cell_type": "code",
   "execution_count": 16,
   "metadata": {},
   "outputs": [],
   "source": [
    "import cv2 as cv\n",
    "\n",
    "img = cv.imread('Sudoku.jpg', 0)\n",
    "thres1 =  cv.adaptiveThreshold(img, 255, cv.ADAPTIVE_THRESH_MEAN_C, cv.THRESH_BINARY, 7,2)\n",
    "thres2 =  cv.adaptiveThreshold(img, 255, cv.ADAPTIVE_THRESH_GAUSSIAN_C, cv.THRESH_BINARY, 7,2)\n",
    "\n",
    "cv.imshow('Mean threshed image', thres1)\n",
    "cv.imshow('Gaussian threshed image', thres2)\n",
    "cv.waitKey(0)\n",
    "cv.destroyAllWindows()"
   ]
  },
  {
   "cell_type": "code",
   "execution_count": 6,
   "metadata": {},
   "outputs": [
    {
     "name": "stdout",
     "output_type": "stream",
     "text": [
      "132.0\n"
     ]
    }
   ],
   "source": [
    "import cv2 as cv\n",
    "\n",
    "img = cv.imread('Boat.jpg', 0)\n",
    "val, thres =  cv.threshold(img, 0, 255, cv.THRESH_BINARY + cv.THRESH_OTSU)\n",
    "\n",
    "cv.imshow('Grayscale image', img)\n",
    "cv.imshow('Threshed image of OTSU\\'s binarization', thres)\n",
    "cv.waitKey(0)\n",
    "cv.destroyAllWindows()\n",
    "print(val)"
   ]
  }
 ],
 "metadata": {
  "kernelspec": {
   "display_name": "Python 3",
   "language": "python",
   "name": "python3"
  },
  "language_info": {
   "codemirror_mode": {
    "name": "ipython",
    "version": 3
   },
   "file_extension": ".py",
   "mimetype": "text/x-python",
   "name": "python",
   "nbconvert_exporter": "python",
   "pygments_lexer": "ipython3",
   "version": "3.12.6"
  }
 },
 "nbformat": 4,
 "nbformat_minor": 2
}
