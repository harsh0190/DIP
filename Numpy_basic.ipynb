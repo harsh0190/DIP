{
 "cells": [
  {
   "cell_type": "code",
   "execution_count": 20,
   "metadata": {},
   "outputs": [
    {
     "name": "stdout",
     "output_type": "stream",
     "text": [
      "[[2 4 5]\n",
      " [6 7 8]]\n",
      "<class 'numpy.ndarray'>\n",
      "6\n",
      "(2, 3)\n"
     ]
    }
   ],
   "source": [
    "import numpy as np\n",
    "arr = np.array([[2,4,5], [6,7,8]])\n",
    "\n",
    "print(arr)\n",
    "print(type(arr))\n",
    "print(np.size(arr))\n",
    "print(np.shape(arr))"
   ]
  },
  {
   "cell_type": "code",
   "execution_count": 19,
   "metadata": {},
   "outputs": [
    {
     "name": "stdout",
     "output_type": "stream",
     "text": [
      "[[1. 1.]\n",
      " [1. 1.]]\n",
      "[[0. 0. 0.]\n",
      " [0. 0. 0.]]\n",
      "[[1. 0. 0.]\n",
      " [0. 1. 0.]\n",
      " [0. 0. 1.]]\n",
      "[[0.5417182  0.69203422 0.14737469]\n",
      " [0.82902146 0.52046386 0.75572287]\n",
      " [0.29166689 0.18475507 0.29431782]]\n",
      "int64\n"
     ]
    }
   ],
   "source": [
    "import numpy as np\n",
    "arr = np.array([[2,4,5], [6,7,8]])\n",
    "\n",
    "ones = np.ones((2,2))\n",
    "print(ones)\n",
    "\n",
    "zeros = np.zeros((2,3))\n",
    "print(zeros)\n",
    "\n",
    "diag = np.eye(3)\n",
    "print(diag)\n",
    "\n",
    "ran = np.random.random((3,3))\n",
    "print(ran)\n",
    "\n",
    "typ = arr.dtype\n",
    "print(typ)"
   ]
  },
  {
   "cell_type": "code",
   "execution_count": 27,
   "metadata": {},
   "outputs": [
    {
     "name": "stdout",
     "output_type": "stream",
     "text": [
      "[1 2 3 4]\n",
      "[1 3 5]\n",
      "[1 2 3]\n",
      "[[4 5]\n",
      " [7 8]]\n"
     ]
    }
   ],
   "source": [
    "import numpy as np\n",
    "arr = np.array([1,2,3,4,5,6,7,8])\n",
    "arr1 = np.array([[2,4,5], [6,7,8]])\n",
    "\n",
    "print(arr[0:4])\n",
    "print(arr[0:5:2])\n",
    "print(arr[:3])\n",
    "print(arr1[0:2,1:3])"
   ]
  },
  {
   "cell_type": "code",
   "execution_count": 29,
   "metadata": {},
   "outputs": [
    {
     "name": "stdout",
     "output_type": "stream",
     "text": [
      "[[1. 1. 1. 1. 1.]\n",
      " [1. 0. 0. 0. 1.]\n",
      " [1. 0. 0. 0. 1.]\n",
      " [1. 0. 0. 0. 1.]\n",
      " [1. 1. 1. 1. 1.]]\n"
     ]
    }
   ],
   "source": [
    "import numpy as np \n",
    "\n",
    "arr = np.ones((5,5))\n",
    "arr[1:4,1:4]=0\n",
    "print(arr)"
   ]
  }
 ],
 "metadata": {
  "kernelspec": {
   "display_name": "Python 3",
   "language": "python",
   "name": "python3"
  },
  "language_info": {
   "codemirror_mode": {
    "name": "ipython",
    "version": 3
   },
   "file_extension": ".py",
   "mimetype": "text/x-python",
   "name": "python",
   "nbconvert_exporter": "python",
   "pygments_lexer": "ipython3",
   "version": "3.12.6"
  }
 },
 "nbformat": 4,
 "nbformat_minor": 2
}
